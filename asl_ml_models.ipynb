{
 "cells": [
  {
   "cell_type": "code",
   "execution_count": 20,
   "id": "1b11a0a3",
   "metadata": {},
   "outputs": [],
   "source": [
    "import numpy as np\n",
    "import pandas as pd\n",
    "from sklearn.svm import SVC\n",
    "from sklearn.ensemble import RandomForestClassifier\n",
    "from sklearn.multiclass import OneVsRestClassifier\n",
    "from sklearn.model_selection import train_test_split"
   ]
  },
  {
   "cell_type": "markdown",
   "id": "d1ab7605",
   "metadata": {},
   "source": [
    "###### Importation des données"
   ]
  },
  {
   "cell_type": "code",
   "execution_count": 21,
   "id": "5b4aafc7",
   "metadata": {},
   "outputs": [],
   "source": [
    "data = pd.read_csv(\"hands_data.txt\", delimiter='\\t')"
   ]
  },
  {
   "cell_type": "code",
   "execution_count": 22,
   "id": "c21b22f2",
   "metadata": {},
   "outputs": [
    {
     "data": {
      "text/plain": [
       "(1702, 128)"
      ]
     },
     "execution_count": 22,
     "metadata": {},
     "output_type": "execute_result"
    }
   ],
   "source": [
    "data.shape"
   ]
  },
  {
   "cell_type": "markdown",
   "id": "1663e183",
   "metadata": {},
   "source": [
    "###### Suppression des lignes qui contient des valeurs manquantes"
   ]
  },
  {
   "cell_type": "code",
   "execution_count": 23,
   "id": "9606794c",
   "metadata": {},
   "outputs": [],
   "source": [
    "data = data.dropna()"
   ]
  },
  {
   "cell_type": "code",
   "execution_count": 24,
   "id": "7be5132e",
   "metadata": {},
   "outputs": [
    {
     "data": {
      "text/plain": [
       "(1701, 128)"
      ]
     },
     "execution_count": 24,
     "metadata": {},
     "output_type": "execute_result"
    }
   ],
   "source": [
    "data.shape"
   ]
  },
  {
   "cell_type": "code",
   "execution_count": 25,
   "id": "4f290fc4",
   "metadata": {
    "scrolled": true
   },
   "outputs": [
    {
     "data": {
      "text/html": [
       "<div>\n",
       "<style scoped>\n",
       "    .dataframe tbody tr th:only-of-type {\n",
       "        vertical-align: middle;\n",
       "    }\n",
       "\n",
       "    .dataframe tbody tr th {\n",
       "        vertical-align: top;\n",
       "    }\n",
       "\n",
       "    .dataframe thead th {\n",
       "        text-align: right;\n",
       "    }\n",
       "</style>\n",
       "<table border=\"1\" class=\"dataframe\">\n",
       "  <thead>\n",
       "    <tr style=\"text-align: right;\">\n",
       "      <th></th>\n",
       "      <th>class</th>\n",
       "      <th>ld_1_1</th>\n",
       "      <th>ld_1_2</th>\n",
       "      <th>ld_1_3</th>\n",
       "      <th>ld_1_4</th>\n",
       "      <th>ld_1_5</th>\n",
       "      <th>ld_1_6</th>\n",
       "      <th>ld_1_7</th>\n",
       "      <th>ld_1_8</th>\n",
       "      <th>ld_1_9</th>\n",
       "      <th>...</th>\n",
       "      <th>ld_2_54</th>\n",
       "      <th>ld_2_55</th>\n",
       "      <th>ld_2_56</th>\n",
       "      <th>ld_2_57</th>\n",
       "      <th>ld_2_58</th>\n",
       "      <th>ld_2_59</th>\n",
       "      <th>ld_2_60</th>\n",
       "      <th>ld_2_61</th>\n",
       "      <th>ld_2_62</th>\n",
       "      <th>ld_2_63</th>\n",
       "    </tr>\n",
       "  </thead>\n",
       "  <tbody>\n",
       "    <tr>\n",
       "      <th>0</th>\n",
       "      <td>1</td>\n",
       "      <td>347.832069</td>\n",
       "      <td>336.378479</td>\n",
       "      <td>2.278469e-07</td>\n",
       "      <td>380.992699</td>\n",
       "      <td>321.894436</td>\n",
       "      <td>-0.127257</td>\n",
       "      <td>408.211517</td>\n",
       "      <td>280.348177</td>\n",
       "      <td>-0.189457</td>\n",
       "      <td>...</td>\n",
       "      <td>0.0</td>\n",
       "      <td>0.0</td>\n",
       "      <td>0.0</td>\n",
       "      <td>0.0</td>\n",
       "      <td>0.0</td>\n",
       "      <td>0.0</td>\n",
       "      <td>0.0</td>\n",
       "      <td>0.0</td>\n",
       "      <td>0.0</td>\n",
       "      <td>0.0</td>\n",
       "    </tr>\n",
       "    <tr>\n",
       "      <th>1</th>\n",
       "      <td>1</td>\n",
       "      <td>348.912659</td>\n",
       "      <td>344.229698</td>\n",
       "      <td>1.749603e-07</td>\n",
       "      <td>380.381317</td>\n",
       "      <td>321.116037</td>\n",
       "      <td>-0.110789</td>\n",
       "      <td>404.765778</td>\n",
       "      <td>276.382570</td>\n",
       "      <td>-0.164375</td>\n",
       "      <td>...</td>\n",
       "      <td>0.0</td>\n",
       "      <td>0.0</td>\n",
       "      <td>0.0</td>\n",
       "      <td>0.0</td>\n",
       "      <td>0.0</td>\n",
       "      <td>0.0</td>\n",
       "      <td>0.0</td>\n",
       "      <td>0.0</td>\n",
       "      <td>0.0</td>\n",
       "      <td>0.0</td>\n",
       "    </tr>\n",
       "    <tr>\n",
       "      <th>2</th>\n",
       "      <td>1</td>\n",
       "      <td>348.482513</td>\n",
       "      <td>349.211340</td>\n",
       "      <td>5.974070e-08</td>\n",
       "      <td>375.301781</td>\n",
       "      <td>319.051838</td>\n",
       "      <td>-0.104387</td>\n",
       "      <td>391.350899</td>\n",
       "      <td>272.960043</td>\n",
       "      <td>-0.156137</td>\n",
       "      <td>...</td>\n",
       "      <td>0.0</td>\n",
       "      <td>0.0</td>\n",
       "      <td>0.0</td>\n",
       "      <td>0.0</td>\n",
       "      <td>0.0</td>\n",
       "      <td>0.0</td>\n",
       "      <td>0.0</td>\n",
       "      <td>0.0</td>\n",
       "      <td>0.0</td>\n",
       "      <td>0.0</td>\n",
       "    </tr>\n",
       "  </tbody>\n",
       "</table>\n",
       "<p>3 rows × 128 columns</p>\n",
       "</div>"
      ],
      "text/plain": [
       "  class      ld_1_1      ld_1_2        ld_1_3      ld_1_4      ld_1_5  \\\n",
       "0     1  347.832069  336.378479  2.278469e-07  380.992699  321.894436   \n",
       "1     1  348.912659  344.229698  1.749603e-07  380.381317  321.116037   \n",
       "2     1  348.482513  349.211340  5.974070e-08  375.301781  319.051838   \n",
       "\n",
       "     ld_1_6      ld_1_7      ld_1_8    ld_1_9  ...  ld_2_54  ld_2_55  ld_2_56  \\\n",
       "0 -0.127257  408.211517  280.348177 -0.189457  ...      0.0      0.0      0.0   \n",
       "1 -0.110789  404.765778  276.382570 -0.164375  ...      0.0      0.0      0.0   \n",
       "2 -0.104387  391.350899  272.960043 -0.156137  ...      0.0      0.0      0.0   \n",
       "\n",
       "   ld_2_57  ld_2_58  ld_2_59  ld_2_60  ld_2_61  ld_2_62  ld_2_63  \n",
       "0      0.0      0.0      0.0      0.0      0.0      0.0      0.0  \n",
       "1      0.0      0.0      0.0      0.0      0.0      0.0      0.0  \n",
       "2      0.0      0.0      0.0      0.0      0.0      0.0      0.0  \n",
       "\n",
       "[3 rows x 128 columns]"
      ]
     },
     "execution_count": 25,
     "metadata": {},
     "output_type": "execute_result"
    }
   ],
   "source": [
    "data.head(3)"
   ]
  },
  {
   "cell_type": "code",
   "execution_count": 26,
   "id": "751beda1",
   "metadata": {},
   "outputs": [
    {
     "data": {
      "text/html": [
       "<div>\n",
       "<style scoped>\n",
       "    .dataframe tbody tr th:only-of-type {\n",
       "        vertical-align: middle;\n",
       "    }\n",
       "\n",
       "    .dataframe tbody tr th {\n",
       "        vertical-align: top;\n",
       "    }\n",
       "\n",
       "    .dataframe thead th {\n",
       "        text-align: right;\n",
       "    }\n",
       "</style>\n",
       "<table border=\"1\" class=\"dataframe\">\n",
       "  <thead>\n",
       "    <tr style=\"text-align: right;\">\n",
       "      <th></th>\n",
       "      <th>class</th>\n",
       "      <th>ld_1_1</th>\n",
       "      <th>ld_1_2</th>\n",
       "      <th>ld_1_3</th>\n",
       "      <th>ld_1_4</th>\n",
       "      <th>ld_1_5</th>\n",
       "      <th>ld_1_6</th>\n",
       "      <th>ld_1_7</th>\n",
       "      <th>ld_1_8</th>\n",
       "      <th>ld_1_9</th>\n",
       "      <th>...</th>\n",
       "      <th>ld_2_54</th>\n",
       "      <th>ld_2_55</th>\n",
       "      <th>ld_2_56</th>\n",
       "      <th>ld_2_57</th>\n",
       "      <th>ld_2_58</th>\n",
       "      <th>ld_2_59</th>\n",
       "      <th>ld_2_60</th>\n",
       "      <th>ld_2_61</th>\n",
       "      <th>ld_2_62</th>\n",
       "      <th>ld_2_63</th>\n",
       "    </tr>\n",
       "  </thead>\n",
       "  <tbody>\n",
       "    <tr>\n",
       "      <th>1699</th>\n",
       "      <td>salut</td>\n",
       "      <td>136.587057</td>\n",
       "      <td>349.313335</td>\n",
       "      <td>9.961989e-07</td>\n",
       "      <td>181.930981</td>\n",
       "      <td>334.304209</td>\n",
       "      <td>-0.074335</td>\n",
       "      <td>218.270226</td>\n",
       "      <td>294.100857</td>\n",
       "      <td>-0.087441</td>\n",
       "      <td>...</td>\n",
       "      <td>-0.109424</td>\n",
       "      <td>608.315125</td>\n",
       "      <td>175.043163</td>\n",
       "      <td>-0.153936</td>\n",
       "      <td>596.527405</td>\n",
       "      <td>150.897360</td>\n",
       "      <td>-0.174799</td>\n",
       "      <td>584.645729</td>\n",
       "      <td>128.972111</td>\n",
       "      <td>-0.189481</td>\n",
       "    </tr>\n",
       "    <tr>\n",
       "      <th>1700</th>\n",
       "      <td>salut</td>\n",
       "      <td>138.785019</td>\n",
       "      <td>348.844156</td>\n",
       "      <td>1.004447e-06</td>\n",
       "      <td>184.017563</td>\n",
       "      <td>333.476801</td>\n",
       "      <td>-0.073403</td>\n",
       "      <td>219.184837</td>\n",
       "      <td>293.140583</td>\n",
       "      <td>-0.085527</td>\n",
       "      <td>...</td>\n",
       "      <td>-0.117071</td>\n",
       "      <td>610.522690</td>\n",
       "      <td>175.490155</td>\n",
       "      <td>-0.160519</td>\n",
       "      <td>599.069519</td>\n",
       "      <td>150.775166</td>\n",
       "      <td>-0.180237</td>\n",
       "      <td>587.260704</td>\n",
       "      <td>128.759408</td>\n",
       "      <td>-0.193684</td>\n",
       "    </tr>\n",
       "    <tr>\n",
       "      <th>1701</th>\n",
       "      <td>salut</td>\n",
       "      <td>138.076334</td>\n",
       "      <td>348.656673</td>\n",
       "      <td>1.031117e-06</td>\n",
       "      <td>183.380184</td>\n",
       "      <td>333.707714</td>\n",
       "      <td>-0.075258</td>\n",
       "      <td>219.296074</td>\n",
       "      <td>293.474379</td>\n",
       "      <td>-0.088213</td>\n",
       "      <td>...</td>\n",
       "      <td>-0.113998</td>\n",
       "      <td>609.929008</td>\n",
       "      <td>176.115847</td>\n",
       "      <td>-0.157339</td>\n",
       "      <td>598.661461</td>\n",
       "      <td>152.013903</td>\n",
       "      <td>-0.176928</td>\n",
       "      <td>587.265625</td>\n",
       "      <td>130.507836</td>\n",
       "      <td>-0.190679</td>\n",
       "    </tr>\n",
       "  </tbody>\n",
       "</table>\n",
       "<p>3 rows × 128 columns</p>\n",
       "</div>"
      ],
      "text/plain": [
       "      class      ld_1_1      ld_1_2        ld_1_3      ld_1_4      ld_1_5  \\\n",
       "1699  salut  136.587057  349.313335  9.961989e-07  181.930981  334.304209   \n",
       "1700  salut  138.785019  348.844156  1.004447e-06  184.017563  333.476801   \n",
       "1701  salut  138.076334  348.656673  1.031117e-06  183.380184  333.707714   \n",
       "\n",
       "        ld_1_6      ld_1_7      ld_1_8    ld_1_9  ...   ld_2_54     ld_2_55  \\\n",
       "1699 -0.074335  218.270226  294.100857 -0.087441  ... -0.109424  608.315125   \n",
       "1700 -0.073403  219.184837  293.140583 -0.085527  ... -0.117071  610.522690   \n",
       "1701 -0.075258  219.296074  293.474379 -0.088213  ... -0.113998  609.929008   \n",
       "\n",
       "         ld_2_56   ld_2_57     ld_2_58     ld_2_59   ld_2_60     ld_2_61  \\\n",
       "1699  175.043163 -0.153936  596.527405  150.897360 -0.174799  584.645729   \n",
       "1700  175.490155 -0.160519  599.069519  150.775166 -0.180237  587.260704   \n",
       "1701  176.115847 -0.157339  598.661461  152.013903 -0.176928  587.265625   \n",
       "\n",
       "         ld_2_62   ld_2_63  \n",
       "1699  128.972111 -0.189481  \n",
       "1700  128.759408 -0.193684  \n",
       "1701  130.507836 -0.190679  \n",
       "\n",
       "[3 rows x 128 columns]"
      ]
     },
     "execution_count": 26,
     "metadata": {},
     "output_type": "execute_result"
    }
   ],
   "source": [
    "data.tail(3)"
   ]
  },
  {
   "cell_type": "markdown",
   "id": "ad4da70c",
   "metadata": {},
   "source": [
    "###### Séparation classes et caractéristiques"
   ]
  },
  {
   "cell_type": "code",
   "execution_count": 27,
   "id": "2198b0b0",
   "metadata": {},
   "outputs": [],
   "source": [
    "y = data['class']\n",
    "X = data.drop('class', axis=1)"
   ]
  },
  {
   "cell_type": "markdown",
   "id": "5f986923",
   "metadata": {},
   "source": [
    "###### Dévision des données en ensemble d'entrainement et de test"
   ]
  },
  {
   "cell_type": "code",
   "execution_count": 30,
   "id": "e974e49e",
   "metadata": {},
   "outputs": [],
   "source": [
    "X_train, X_test, y_train, y_test = train_test_split(X, y, test_size=0.34, random_state=42)"
   ]
  },
  {
   "cell_type": "code",
   "execution_count": 31,
   "id": "874d7bcc",
   "metadata": {},
   "outputs": [
    {
     "data": {
      "text/plain": [
       "1122"
      ]
     },
     "execution_count": 31,
     "metadata": {},
     "output_type": "execute_result"
    }
   ],
   "source": [
    "len(X_train)"
   ]
  },
  {
   "cell_type": "markdown",
   "id": "72fb3068",
   "metadata": {},
   "source": [
    "### Machine learning : SVM"
   ]
  },
  {
   "cell_type": "code",
   "execution_count": 32,
   "id": "798de189",
   "metadata": {},
   "outputs": [
    {
     "data": {
      "text/html": [
       "<style>#sk-container-id-1 {color: black;}#sk-container-id-1 pre{padding: 0;}#sk-container-id-1 div.sk-toggleable {background-color: white;}#sk-container-id-1 label.sk-toggleable__label {cursor: pointer;display: block;width: 100%;margin-bottom: 0;padding: 0.3em;box-sizing: border-box;text-align: center;}#sk-container-id-1 label.sk-toggleable__label-arrow:before {content: \"▸\";float: left;margin-right: 0.25em;color: #696969;}#sk-container-id-1 label.sk-toggleable__label-arrow:hover:before {color: black;}#sk-container-id-1 div.sk-estimator:hover label.sk-toggleable__label-arrow:before {color: black;}#sk-container-id-1 div.sk-toggleable__content {max-height: 0;max-width: 0;overflow: hidden;text-align: left;background-color: #f0f8ff;}#sk-container-id-1 div.sk-toggleable__content pre {margin: 0.2em;color: black;border-radius: 0.25em;background-color: #f0f8ff;}#sk-container-id-1 input.sk-toggleable__control:checked~div.sk-toggleable__content {max-height: 200px;max-width: 100%;overflow: auto;}#sk-container-id-1 input.sk-toggleable__control:checked~label.sk-toggleable__label-arrow:before {content: \"▾\";}#sk-container-id-1 div.sk-estimator input.sk-toggleable__control:checked~label.sk-toggleable__label {background-color: #d4ebff;}#sk-container-id-1 div.sk-label input.sk-toggleable__control:checked~label.sk-toggleable__label {background-color: #d4ebff;}#sk-container-id-1 input.sk-hidden--visually {border: 0;clip: rect(1px 1px 1px 1px);clip: rect(1px, 1px, 1px, 1px);height: 1px;margin: -1px;overflow: hidden;padding: 0;position: absolute;width: 1px;}#sk-container-id-1 div.sk-estimator {font-family: monospace;background-color: #f0f8ff;border: 1px dotted black;border-radius: 0.25em;box-sizing: border-box;margin-bottom: 0.5em;}#sk-container-id-1 div.sk-estimator:hover {background-color: #d4ebff;}#sk-container-id-1 div.sk-parallel-item::after {content: \"\";width: 100%;border-bottom: 1px solid gray;flex-grow: 1;}#sk-container-id-1 div.sk-label:hover label.sk-toggleable__label {background-color: #d4ebff;}#sk-container-id-1 div.sk-serial::before {content: \"\";position: absolute;border-left: 1px solid gray;box-sizing: border-box;top: 0;bottom: 0;left: 50%;z-index: 0;}#sk-container-id-1 div.sk-serial {display: flex;flex-direction: column;align-items: center;background-color: white;padding-right: 0.2em;padding-left: 0.2em;position: relative;}#sk-container-id-1 div.sk-item {position: relative;z-index: 1;}#sk-container-id-1 div.sk-parallel {display: flex;align-items: stretch;justify-content: center;background-color: white;position: relative;}#sk-container-id-1 div.sk-item::before, #sk-container-id-1 div.sk-parallel-item::before {content: \"\";position: absolute;border-left: 1px solid gray;box-sizing: border-box;top: 0;bottom: 0;left: 50%;z-index: -1;}#sk-container-id-1 div.sk-parallel-item {display: flex;flex-direction: column;z-index: 1;position: relative;background-color: white;}#sk-container-id-1 div.sk-parallel-item:first-child::after {align-self: flex-end;width: 50%;}#sk-container-id-1 div.sk-parallel-item:last-child::after {align-self: flex-start;width: 50%;}#sk-container-id-1 div.sk-parallel-item:only-child::after {width: 0;}#sk-container-id-1 div.sk-dashed-wrapped {border: 1px dashed gray;margin: 0 0.4em 0.5em 0.4em;box-sizing: border-box;padding-bottom: 0.4em;background-color: white;}#sk-container-id-1 div.sk-label label {font-family: monospace;font-weight: bold;display: inline-block;line-height: 1.2em;}#sk-container-id-1 div.sk-label-container {text-align: center;}#sk-container-id-1 div.sk-container {/* jupyter's `normalize.less` sets `[hidden] { display: none; }` but bootstrap.min.css set `[hidden] { display: none !important; }` so we also need the `!important` here to be able to override the default hidden behavior on the sphinx rendered scikit-learn.org. See: https://github.com/scikit-learn/scikit-learn/issues/21755 */display: inline-block !important;position: relative;}#sk-container-id-1 div.sk-text-repr-fallback {display: none;}</style><div id=\"sk-container-id-1\" class=\"sk-top-container\"><div class=\"sk-text-repr-fallback\"><pre>OneVsRestClassifier(estimator=SVC(kernel=&#x27;linear&#x27;, probability=True))</pre><b>In a Jupyter environment, please rerun this cell to show the HTML representation or trust the notebook. <br />On GitHub, the HTML representation is unable to render, please try loading this page with nbviewer.org.</b></div><div class=\"sk-container\" hidden><div class=\"sk-item sk-dashed-wrapped\"><div class=\"sk-label-container\"><div class=\"sk-label sk-toggleable\"><input class=\"sk-toggleable__control sk-hidden--visually\" id=\"sk-estimator-id-1\" type=\"checkbox\" ><label for=\"sk-estimator-id-1\" class=\"sk-toggleable__label sk-toggleable__label-arrow\">OneVsRestClassifier</label><div class=\"sk-toggleable__content\"><pre>OneVsRestClassifier(estimator=SVC(kernel=&#x27;linear&#x27;, probability=True))</pre></div></div></div><div class=\"sk-parallel\"><div class=\"sk-parallel-item\"><div class=\"sk-item\"><div class=\"sk-label-container\"><div class=\"sk-label sk-toggleable\"><input class=\"sk-toggleable__control sk-hidden--visually\" id=\"sk-estimator-id-2\" type=\"checkbox\" ><label for=\"sk-estimator-id-2\" class=\"sk-toggleable__label sk-toggleable__label-arrow\">estimator: SVC</label><div class=\"sk-toggleable__content\"><pre>SVC(kernel=&#x27;linear&#x27;, probability=True)</pre></div></div></div><div class=\"sk-serial\"><div class=\"sk-item\"><div class=\"sk-estimator sk-toggleable\"><input class=\"sk-toggleable__control sk-hidden--visually\" id=\"sk-estimator-id-3\" type=\"checkbox\" ><label for=\"sk-estimator-id-3\" class=\"sk-toggleable__label sk-toggleable__label-arrow\">SVC</label><div class=\"sk-toggleable__content\"><pre>SVC(kernel=&#x27;linear&#x27;, probability=True)</pre></div></div></div></div></div></div></div></div></div></div>"
      ],
      "text/plain": [
       "OneVsRestClassifier(estimator=SVC(kernel='linear', probability=True))"
      ]
     },
     "execution_count": 32,
     "metadata": {},
     "output_type": "execute_result"
    }
   ],
   "source": [
    "# Create SVM model\n",
    "svm_model = SVC(kernel='linear', probability=True)  # noyau ('linear', 'rbf', 'poly', etc.)\n",
    "\n",
    "OvA_SVMClassifier = OneVsRestClassifier(svm_model)\n",
    "\n",
    "OvA_SVMClassifier.fit(X_train, y_train)"
   ]
  },
  {
   "cell_type": "code",
   "execution_count": 33,
   "id": "78494072",
   "metadata": {},
   "outputs": [],
   "source": [
    "predicted_labels_svm = OvA_SVMClassifier.predict(X_test)"
   ]
  },
  {
   "cell_type": "code",
   "execution_count": 34,
   "id": "4fa9ccc7",
   "metadata": {},
   "outputs": [
    {
     "name": "stdout",
     "output_type": "stream",
     "text": [
      "Accuracy svm: 0.998272884283247\n"
     ]
    }
   ],
   "source": [
    "# Calculate accuracy\n",
    "accuracy_svm = np.mean(predicted_labels_svm == y_test)\n",
    "print(\"Accuracy svm:\", accuracy_svm)"
   ]
  },
  {
   "cell_type": "markdown",
   "id": "0e5ef837",
   "metadata": {},
   "source": [
    "### Machine learning : Forêt aléatoire"
   ]
  },
  {
   "cell_type": "code",
   "execution_count": 35,
   "id": "73bba58a",
   "metadata": {},
   "outputs": [
    {
     "data": {
      "text/html": [
       "<style>#sk-container-id-2 {color: black;}#sk-container-id-2 pre{padding: 0;}#sk-container-id-2 div.sk-toggleable {background-color: white;}#sk-container-id-2 label.sk-toggleable__label {cursor: pointer;display: block;width: 100%;margin-bottom: 0;padding: 0.3em;box-sizing: border-box;text-align: center;}#sk-container-id-2 label.sk-toggleable__label-arrow:before {content: \"▸\";float: left;margin-right: 0.25em;color: #696969;}#sk-container-id-2 label.sk-toggleable__label-arrow:hover:before {color: black;}#sk-container-id-2 div.sk-estimator:hover label.sk-toggleable__label-arrow:before {color: black;}#sk-container-id-2 div.sk-toggleable__content {max-height: 0;max-width: 0;overflow: hidden;text-align: left;background-color: #f0f8ff;}#sk-container-id-2 div.sk-toggleable__content pre {margin: 0.2em;color: black;border-radius: 0.25em;background-color: #f0f8ff;}#sk-container-id-2 input.sk-toggleable__control:checked~div.sk-toggleable__content {max-height: 200px;max-width: 100%;overflow: auto;}#sk-container-id-2 input.sk-toggleable__control:checked~label.sk-toggleable__label-arrow:before {content: \"▾\";}#sk-container-id-2 div.sk-estimator input.sk-toggleable__control:checked~label.sk-toggleable__label {background-color: #d4ebff;}#sk-container-id-2 div.sk-label input.sk-toggleable__control:checked~label.sk-toggleable__label {background-color: #d4ebff;}#sk-container-id-2 input.sk-hidden--visually {border: 0;clip: rect(1px 1px 1px 1px);clip: rect(1px, 1px, 1px, 1px);height: 1px;margin: -1px;overflow: hidden;padding: 0;position: absolute;width: 1px;}#sk-container-id-2 div.sk-estimator {font-family: monospace;background-color: #f0f8ff;border: 1px dotted black;border-radius: 0.25em;box-sizing: border-box;margin-bottom: 0.5em;}#sk-container-id-2 div.sk-estimator:hover {background-color: #d4ebff;}#sk-container-id-2 div.sk-parallel-item::after {content: \"\";width: 100%;border-bottom: 1px solid gray;flex-grow: 1;}#sk-container-id-2 div.sk-label:hover label.sk-toggleable__label {background-color: #d4ebff;}#sk-container-id-2 div.sk-serial::before {content: \"\";position: absolute;border-left: 1px solid gray;box-sizing: border-box;top: 0;bottom: 0;left: 50%;z-index: 0;}#sk-container-id-2 div.sk-serial {display: flex;flex-direction: column;align-items: center;background-color: white;padding-right: 0.2em;padding-left: 0.2em;position: relative;}#sk-container-id-2 div.sk-item {position: relative;z-index: 1;}#sk-container-id-2 div.sk-parallel {display: flex;align-items: stretch;justify-content: center;background-color: white;position: relative;}#sk-container-id-2 div.sk-item::before, #sk-container-id-2 div.sk-parallel-item::before {content: \"\";position: absolute;border-left: 1px solid gray;box-sizing: border-box;top: 0;bottom: 0;left: 50%;z-index: -1;}#sk-container-id-2 div.sk-parallel-item {display: flex;flex-direction: column;z-index: 1;position: relative;background-color: white;}#sk-container-id-2 div.sk-parallel-item:first-child::after {align-self: flex-end;width: 50%;}#sk-container-id-2 div.sk-parallel-item:last-child::after {align-self: flex-start;width: 50%;}#sk-container-id-2 div.sk-parallel-item:only-child::after {width: 0;}#sk-container-id-2 div.sk-dashed-wrapped {border: 1px dashed gray;margin: 0 0.4em 0.5em 0.4em;box-sizing: border-box;padding-bottom: 0.4em;background-color: white;}#sk-container-id-2 div.sk-label label {font-family: monospace;font-weight: bold;display: inline-block;line-height: 1.2em;}#sk-container-id-2 div.sk-label-container {text-align: center;}#sk-container-id-2 div.sk-container {/* jupyter's `normalize.less` sets `[hidden] { display: none; }` but bootstrap.min.css set `[hidden] { display: none !important; }` so we also need the `!important` here to be able to override the default hidden behavior on the sphinx rendered scikit-learn.org. See: https://github.com/scikit-learn/scikit-learn/issues/21755 */display: inline-block !important;position: relative;}#sk-container-id-2 div.sk-text-repr-fallback {display: none;}</style><div id=\"sk-container-id-2\" class=\"sk-top-container\"><div class=\"sk-text-repr-fallback\"><pre>RandomForestClassifier(random_state=42)</pre><b>In a Jupyter environment, please rerun this cell to show the HTML representation or trust the notebook. <br />On GitHub, the HTML representation is unable to render, please try loading this page with nbviewer.org.</b></div><div class=\"sk-container\" hidden><div class=\"sk-item\"><div class=\"sk-estimator sk-toggleable\"><input class=\"sk-toggleable__control sk-hidden--visually\" id=\"sk-estimator-id-4\" type=\"checkbox\" checked><label for=\"sk-estimator-id-4\" class=\"sk-toggleable__label sk-toggleable__label-arrow\">RandomForestClassifier</label><div class=\"sk-toggleable__content\"><pre>RandomForestClassifier(random_state=42)</pre></div></div></div></div></div>"
      ],
      "text/plain": [
       "RandomForestClassifier(random_state=42)"
      ]
     },
     "execution_count": 35,
     "metadata": {},
     "output_type": "execute_result"
    }
   ],
   "source": [
    "random_forest_model = RandomForestClassifier(n_estimators=100, random_state=42)  \n",
    "\n",
    "random_forest_model.fit(X_train, y_train)"
   ]
  },
  {
   "cell_type": "code",
   "execution_count": 36,
   "id": "896ac9b9",
   "metadata": {},
   "outputs": [],
   "source": [
    "# Faire des prédictions sur de nouvelles données\n",
    "predicted_labels_rf = random_forest_model.predict(X_test)"
   ]
  },
  {
   "cell_type": "code",
   "execution_count": 37,
   "id": "6dc1d393",
   "metadata": {},
   "outputs": [
    {
     "name": "stdout",
     "output_type": "stream",
     "text": [
      "Accuracy rf: 0.9896373056994818\n"
     ]
    }
   ],
   "source": [
    "# Calculate accuracy\n",
    "accuracy_rf = np.mean(predicted_labels_rf == y_test)\n",
    "print(\"Accuracy rf:\", accuracy_rf)"
   ]
  },
  {
   "cell_type": "markdown",
   "id": "196b70f5",
   "metadata": {},
   "source": [
    "###### Enregistrement de modèle entrainé"
   ]
  },
  {
   "cell_type": "code",
   "execution_count": 38,
   "id": "b87838f3",
   "metadata": {},
   "outputs": [
    {
     "data": {
      "text/plain": [
       "['asl_svm_model.pkl']"
      ]
     },
     "execution_count": 38,
     "metadata": {},
     "output_type": "execute_result"
    }
   ],
   "source": [
    "import joblib\n",
    "joblib.dump(OvA_SVMClassifier, 'asl_svm_model.pkl')"
   ]
  },
  {
   "cell_type": "code",
   "execution_count": null,
   "id": "3cb0cf2c",
   "metadata": {},
   "outputs": [],
   "source": []
  }
 ],
 "metadata": {
  "kernelspec": {
   "display_name": "Python 3 (ipykernel)",
   "language": "python",
   "name": "python3"
  },
  "language_info": {
   "codemirror_mode": {
    "name": "ipython",
    "version": 3
   },
   "file_extension": ".py",
   "mimetype": "text/x-python",
   "name": "python",
   "nbconvert_exporter": "python",
   "pygments_lexer": "ipython3",
   "version": "3.11.5"
  }
 },
 "nbformat": 4,
 "nbformat_minor": 5
}
