{
 "cells": [
  {
   "cell_type": "code",
   "execution_count": 1,
   "id": "80b2e719",
   "metadata": {},
   "outputs": [
    {
     "name": "stdout",
     "output_type": "stream",
     "text": [
      "WARNING:tensorflow:From C:\\Users\\mohammed\\anaconda3\\Lib\\site-packages\\keras\\src\\losses.py:2976: The name tf.losses.sparse_softmax_cross_entropy is deprecated. Please use tf.compat.v1.losses.sparse_softmax_cross_entropy instead.\n",
      "\n"
     ]
    }
   ],
   "source": [
    "import os\n",
    "import csv\n",
    "import cv2\n",
    "import numpy as np\n",
    "import mediapipe as mp"
   ]
  },
  {
   "cell_type": "markdown",
   "id": "82269888",
   "metadata": {},
   "source": [
    "###### Extraire les landmarks d'un image"
   ]
  },
  {
   "cell_type": "code",
   "execution_count": 4,
   "id": "1b5e807c",
   "metadata": {},
   "outputs": [],
   "source": [
    "def extract_landmarks(image, class_, hands):\n",
    "    # Convertir l'image en format RGB\n",
    "    image_rgb = cv2.cvtColor(image, cv2.COLOR_BGR2RGB).astype(np.uint8)\n",
    "    # Extraction des dimensions de l'image\n",
    "    h, w, c = image.shape\n",
    "    # Traitement de l'image pour détecter les mains\n",
    "    results = hands.process(image_rgb)\n",
    "    # Initialisation du tableau pour stocker les coordonnées des landmarks\n",
    "    landmarks_array = [class_]\n",
    "    \n",
    "    # Vérification de la présence de landmarks pour plusieurs mains dans les résultats\n",
    "    if results.multi_hand_landmarks:\n",
    "        # Boucle à travers les landmarks de chaque main détectée\n",
    "        for hand_landmarks in results.multi_hand_landmarks:\n",
    "            # Extraction des coordonnées des landmarks\n",
    "            landmarks = hand_landmarks.landmark\n",
    "            landmarks_row = []\n",
    "            # Boucle à travers chaque landmark\n",
    "            for landmark in landmarks:\n",
    "                # Stockage des coordonnées des landmarks dans le tableau\n",
    "                landmarks_row.extend([landmark.x*w, landmark.y*h, landmark.z*c])\n",
    "            # Stockage des coordonnées des landmarks de la main dans le tableau principal\n",
    "            landmarks_array.append(landmarks_row)\n",
    "    \n",
    "        # Traitement du nombre de mains détectées\n",
    "        nom_hands = len(results.multi_hand_landmarks)\n",
    "        \n",
    "        # Ajout d'informations supplémentaires au tableau des landmarks en fonction du nombre de mains détectées\n",
    "        if nom_hands == 1:\n",
    "            landmarks_array[1].append(0)\n",
    "            landmarks_array.append([0] * 63)\n",
    "        elif nom_hands == 2:\n",
    "            landmarks_array[1].append(1)\n",
    "        \n",
    "        # Retour des coordonnées des landmarks sous forme de tableau aplati\n",
    "        return np.array([ [landmarks_array[0]]+landmarks_array[1]+landmarks_array[2] ]).flatten()\n",
    "    else:\n",
    "        # Si aucun landmark n'est détecté, retourne None\n",
    "        return None"
   ]
  },
  {
   "cell_type": "markdown",
   "id": "5426f9da",
   "metadata": {},
   "source": [
    "###### Génération de fichiers txt des landmarks des images de dataset"
   ]
  },
  {
   "cell_type": "code",
   "execution_count": 5,
   "id": "139b430a",
   "metadata": {},
   "outputs": [],
   "source": [
    "def generate_data(classes_folder):\n",
    "    # Importation du modèle de détection des mains\n",
    "    mpHands = mp.solutions.hands\n",
    "    # Initialisation du détecteur de mains\n",
    "    hands = mpHands.Hands()\n",
    "\n",
    "    with open('hands_data.txt', 'w') as txtfile:\n",
    "        # Création de l'en-tête du fichier texte\n",
    "        header = 'class' + ''.join([f'\\tld_1_{i}' for i in range(1, 64)]) + '\\to_h' + ''.join([f'\\tld_2_{i}' for i in range(1, 64)])+'\\n'\n",
    "        txtfile.write(header)\n",
    "\n",
    "        # Parcours des répertoires des classes\n",
    "        directory = os.path.join(os.getcwd(), classes_folder)\n",
    "        dir_classes = os.listdir(directory)\n",
    "\n",
    "        for class_ in dir_classes:\n",
    "            class_dir_path = os.path.join(directory, class_)\n",
    "            image_names = os.listdir(class_dir_path)\n",
    "\n",
    "            # Parcours des images de chaque classe\n",
    "            for image_name in image_names:\n",
    "                image_path = os.path.join(class_dir_path, image_name)\n",
    "                image = cv2.imread(image_path)\n",
    "\n",
    "                # Extraction des landmarks de la main pour chaque image\n",
    "                hand_landmarks = extract_landmarks(image, class_, hands)\n",
    "\n",
    "                # Écriture des landmarks dans le fichier texte\n",
    "                if hand_landmarks is not None:\n",
    "                    hand_landmarks_str = [str(item) for item in hand_landmarks]\n",
    "                    hand_landmarks_formatted = '\\t'.join(hand_landmarks_str)\n",
    "                    hand_landmarks_formatted+= '\\n'\n",
    "                    txtfile.write(hand_landmarks_formatted)\n"
   ]
  },
  {
   "cell_type": "code",
   "execution_count": 6,
   "id": "4f4f2be3",
   "metadata": {},
   "outputs": [],
   "source": [
    "generate_data(\"DataSet\")"
   ]
  },
  {
   "cell_type": "code",
   "execution_count": null,
   "id": "e0402b75",
   "metadata": {},
   "outputs": [],
   "source": []
  }
 ],
 "metadata": {
  "kernelspec": {
   "display_name": "Python 3 (ipykernel)",
   "language": "python",
   "name": "python3"
  },
  "language_info": {
   "codemirror_mode": {
    "name": "ipython",
    "version": 3
   },
   "file_extension": ".py",
   "mimetype": "text/x-python",
   "name": "python",
   "nbconvert_exporter": "python",
   "pygments_lexer": "ipython3",
   "version": "3.11.5"
  }
 },
 "nbformat": 4,
 "nbformat_minor": 5
}
